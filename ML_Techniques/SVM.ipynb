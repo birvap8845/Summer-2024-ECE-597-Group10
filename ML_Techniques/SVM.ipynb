{
 "cells": [
  {
   "cell_type": "markdown",
   "metadata": {},
   "source": [
    "# ML Technique - SVM\n",
    "\n",
    "Sources: https://github.com/cmadusankahw/email-spam-detection-with-SVM\n",
    "\n",
    "https://www.kaggle.com/code/elnahas/phishing-email-detection-using-svm-rfc"
   ]
  },
  {
   "cell_type": "code",
   "execution_count": 7,
   "metadata": {},
   "outputs": [
    {
     "name": "stdout",
     "output_type": "stream",
     "text": [
      "Collecting scikit-learn\n",
      "  Downloading scikit_learn-1.5.0-cp311-cp311-win_amd64.whl.metadata (11 kB)\n",
      "Requirement already satisfied: numpy>=1.19.5 in c:\\users\\julia\\appdata\\local\\programs\\python\\python311\\lib\\site-packages (from scikit-learn) (1.26.0)\n",
      "Collecting scipy>=1.6.0 (from scikit-learn)\n",
      "  Downloading scipy-1.13.1-cp311-cp311-win_amd64.whl.metadata (60 kB)\n",
      "     ---------------------------------------- 0.0/60.6 kB ? eta -:--:--\n",
      "     ---------------------------------------- 60.6/60.6 kB 3.4 MB/s eta 0:00:00\n",
      "Collecting joblib>=1.2.0 (from scikit-learn)\n",
      "  Downloading joblib-1.4.2-py3-none-any.whl.metadata (5.4 kB)\n",
      "Collecting threadpoolctl>=3.1.0 (from scikit-learn)\n",
      "  Downloading threadpoolctl-3.5.0-py3-none-any.whl.metadata (13 kB)\n",
      "Downloading scikit_learn-1.5.0-cp311-cp311-win_amd64.whl (11.0 MB)\n",
      "   ---------------------------------------- 0.0/11.0 MB ? eta -:--:--\n",
      "   - -------------------------------------- 0.3/11.0 MB 22.5 MB/s eta 0:00:01\n",
      "   ---- ----------------------------------- 1.3/11.0 MB 16.8 MB/s eta 0:00:01\n",
      "   ------- -------------------------------- 2.2/11.0 MB 17.4 MB/s eta 0:00:01\n",
      "   ------------ --------------------------- 3.5/11.0 MB 20.2 MB/s eta 0:00:01\n",
      "   ---------------- ----------------------- 4.6/11.0 MB 21.1 MB/s eta 0:00:01\n",
      "   ---------------------- ----------------- 6.1/11.0 MB 23.1 MB/s eta 0:00:01\n",
      "   ---------------------------- ----------- 7.8/11.0 MB 25.1 MB/s eta 0:00:01\n",
      "   ----------------------------------- ---- 9.6/11.0 MB 26.8 MB/s eta 0:00:01\n",
      "   ---------------------------------------  11.0/11.0 MB 31.1 MB/s eta 0:00:01\n",
      "   ---------------------------------------- 11.0/11.0 MB 28.4 MB/s eta 0:00:00\n",
      "Downloading joblib-1.4.2-py3-none-any.whl (301 kB)\n",
      "   ---------------------------------------- 0.0/301.8 kB ? eta -:--:--\n",
      "   --------------------------------------- 301.8/301.8 kB 18.2 MB/s eta 0:00:00\n",
      "Downloading scipy-1.13.1-cp311-cp311-win_amd64.whl (46.2 MB)\n",
      "   ---------------------------------------- 0.0/46.2 MB ? eta -:--:--\n",
      "   - -------------------------------------- 1.9/46.2 MB 58.2 MB/s eta 0:00:01\n",
      "   --- ------------------------------------ 3.5/46.2 MB 37.6 MB/s eta 0:00:02\n",
      "   ---- ----------------------------------- 5.6/46.2 MB 44.6 MB/s eta 0:00:01\n",
      "   ------ --------------------------------- 7.8/46.2 MB 45.5 MB/s eta 0:00:01\n",
      "   -------- ------------------------------- 9.9/46.2 MB 45.1 MB/s eta 0:00:01\n",
      "   ---------- ----------------------------- 11.9/46.2 MB 40.9 MB/s eta 0:00:01\n",
      "   ------------ --------------------------- 13.9/46.2 MB 43.7 MB/s eta 0:00:01\n",
      "   ------------- -------------------------- 16.2/46.2 MB 46.7 MB/s eta 0:00:01\n",
      "   --------------- ------------------------ 18.3/46.2 MB 46.7 MB/s eta 0:00:01\n",
      "   ------------------ --------------------- 21.1/46.2 MB 54.7 MB/s eta 0:00:01\n",
      "   -------------------- ------------------- 23.9/46.2 MB 54.7 MB/s eta 0:00:01\n",
      "   ----------------------- ---------------- 26.7/46.2 MB 59.5 MB/s eta 0:00:01\n",
      "   ------------------------- -------------- 29.1/46.2 MB 59.5 MB/s eta 0:00:01\n",
      "   --------------------------- ------------ 31.4/46.2 MB 59.5 MB/s eta 0:00:01\n",
      "   ---------------------------- ----------- 33.2/46.2 MB 50.4 MB/s eta 0:00:01\n",
      "   ------------------------------ --------- 35.8/46.2 MB 50.4 MB/s eta 0:00:01\n",
      "   --------------------------------- ------ 38.4/46.2 MB 50.1 MB/s eta 0:00:01\n",
      "   ----------------------------------- ---- 41.3/46.2 MB 54.7 MB/s eta 0:00:01\n",
      "   ------------------------------------- -- 42.9/46.2 MB 54.7 MB/s eta 0:00:01\n",
      "   ---------------------------------------  45.9/46.2 MB 54.7 MB/s eta 0:00:01\n",
      "   ---------------------------------------  46.2/46.2 MB 59.5 MB/s eta 0:00:01\n",
      "   ---------------------------------------- 46.2/46.2 MB 46.7 MB/s eta 0:00:00\n",
      "Downloading threadpoolctl-3.5.0-py3-none-any.whl (18 kB)\n",
      "Installing collected packages: threadpoolctl, scipy, joblib, scikit-learn\n",
      "Successfully installed joblib-1.4.2 scikit-learn-1.5.0 scipy-1.13.1 threadpoolctl-3.5.0\n"
     ]
    }
   ],
   "source": [
    "!pip install scikit-learn\n"
   ]
  },
  {
   "cell_type": "code",
   "execution_count": 3,
   "metadata": {},
   "outputs": [],
   "source": [
    "#Importing the necessary libraries\n",
    "import numpy as np\n",
    "import pandas as pd\n",
    "from sklearn import datasets\n",
    "from sklearn.model_selection import train_test_split\n",
    "from sklearn.svm import SVC\n",
    "from sklearn.metrics import confusion_matrix, balanced_accuracy_score, roc_auc_score\n",
    "from sklearn.feature_extraction.text import CountVectorizer\n",
    "from sklearn.feature_extraction.text import TfidfVectorizer"
   ]
  },
  {
   "cell_type": "markdown",
   "metadata": {},
   "source": [
    "## Load the Dataset"
   ]
  },
  {
   "cell_type": "code",
   "execution_count": 2,
   "metadata": {},
   "outputs": [
    {
     "data": {
      "text/html": [
       "<div>\n",
       "<style scoped>\n",
       "    .dataframe tbody tr th:only-of-type {\n",
       "        vertical-align: middle;\n",
       "    }\n",
       "\n",
       "    .dataframe tbody tr th {\n",
       "        vertical-align: top;\n",
       "    }\n",
       "\n",
       "    .dataframe thead th {\n",
       "        text-align: right;\n",
       "    }\n",
       "</style>\n",
       "<table border=\"1\" class=\"dataframe\">\n",
       "  <thead>\n",
       "    <tr style=\"text-align: right;\">\n",
       "      <th></th>\n",
       "      <th>Subject</th>\n",
       "      <th>Body</th>\n",
       "      <th>label</th>\n",
       "      <th>Body_Length</th>\n",
       "    </tr>\n",
       "  </thead>\n",
       "  <tbody>\n",
       "    <tr>\n",
       "      <th>0</th>\n",
       "      <td>review your shipment details  shipment notific...</td>\n",
       "      <td>notice this message was sent from outside the ...</td>\n",
       "      <td>1</td>\n",
       "      <td>890.0</td>\n",
       "    </tr>\n",
       "    <tr>\n",
       "      <th>1</th>\n",
       "      <td>υоur ассоunt іѕ оn hоld</td>\n",
       "      <td>votre réponse a bien été prise en compte\\r\\nht...</td>\n",
       "      <td>1</td>\n",
       "      <td>1235.0</td>\n",
       "    </tr>\n",
       "    <tr>\n",
       "      <th>2</th>\n",
       "      <td>completed invoice  kz89tys2564 frombestbuycom ...</td>\n",
       "      <td>notice this message was sent from outside the ...</td>\n",
       "      <td>1</td>\n",
       "      <td>3024.0</td>\n",
       "    </tr>\n",
       "    <tr>\n",
       "      <th>3</th>\n",
       "      <td>uvic important notice</td>\n",
       "      <td>your uvic account has been filed under the lis...</td>\n",
       "      <td>1</td>\n",
       "      <td>528.0</td>\n",
       "    </tr>\n",
       "    <tr>\n",
       "      <th>4</th>\n",
       "      <td>you have 6 suspended incoming messages</td>\n",
       "      <td>message generated from  uvicca source\\r\\n\\r\\n\\...</td>\n",
       "      <td>1</td>\n",
       "      <td>1234.0</td>\n",
       "    </tr>\n",
       "  </tbody>\n",
       "</table>\n",
       "</div>"
      ],
      "text/plain": [
       "                                             Subject  \\\n",
       "0  review your shipment details  shipment notific...   \n",
       "1                            υоur ассоunt іѕ оn hоld   \n",
       "2  completed invoice  kz89tys2564 frombestbuycom ...   \n",
       "3                              uvic important notice   \n",
       "4             you have 6 suspended incoming messages   \n",
       "\n",
       "                                                Body  label  Body_Length  \n",
       "0  notice this message was sent from outside the ...      1        890.0  \n",
       "1  votre réponse a bien été prise en compte\\r\\nht...      1       1235.0  \n",
       "2  notice this message was sent from outside the ...      1       3024.0  \n",
       "3  your uvic account has been filed under the lis...      1        528.0  \n",
       "4  message generated from  uvicca source\\r\\n\\r\\n\\...      1       1234.0  "
      ]
     },
     "execution_count": 2,
     "metadata": {},
     "output_type": "execute_result"
    }
   ],
   "source": [
    "import pandas as pd\n",
    "\n",
    "# Load the dataset\n",
    "data_path = '../masterData.csv'\n",
    "master_data = pd.read_csv(data_path)\n",
    "\n",
    "# Display the first few rows of the dataset\n",
    "master_data.head()"
   ]
  },
  {
   "cell_type": "code",
   "execution_count": 3,
   "metadata": {},
   "outputs": [
    {
     "name": "stdout",
     "output_type": "stream",
     "text": [
      "Missing values in each column:\n",
      " Subject        19365\n",
      "Body              68\n",
      "label              0\n",
      "Body_Length        5\n",
      "dtype: int64\n"
     ]
    }
   ],
   "source": [
    "# Check for missing values\n",
    "missing_values = master_data.isnull().sum()\n",
    "print(\"Missing values in each column:\\n\", missing_values)"
   ]
  },
  {
   "cell_type": "code",
   "execution_count": 4,
   "metadata": {},
   "outputs": [],
   "source": [
    "# Handle missing values\n",
    "# Remove rows with empty 'Body'\n",
    "master_data = master_data.dropna(subset=['Body'])\n",
    "\n",
    "# Replace missing values in 'Subject' with a space\n",
    "master_data['Subject'].fillna(' ', inplace=True)\n",
    "\n",
    "# Fill missing values in 'Body_Length' with the mean\n",
    "from sklearn.impute import SimpleImputer\n",
    "imputer = SimpleImputer(strategy='mean')\n",
    "master_data['Body_Length'] = imputer.fit_transform(master_data[['Body_Length']])"
   ]
  },
  {
   "cell_type": "code",
   "execution_count": 5,
   "metadata": {},
   "outputs": [],
   "source": [
    "# Encode the 'Body' column as it is a categorical variable\n",
    "import pandas as pd\n",
    "from sklearn.model_selection import train_test_split\n",
    "from sklearn.preprocessing import StandardScaler, LabelEncoder\n",
    "\n",
    "le_body = LabelEncoder()\n",
    "le_subject = LabelEncoder()\n"
   ]
  },
  {
   "cell_type": "code",
   "execution_count": 6,
   "metadata": {},
   "outputs": [],
   "source": [
    "master_data['Body'] = le_body.fit_transform(master_data['Body'].astype(str))\n",
    "master_data['Subject'] = le_subject.fit_transform(master_data['Subject'].astype(str))"
   ]
  },
  {
   "cell_type": "code",
   "execution_count": 7,
   "metadata": {},
   "outputs": [],
   "source": [
    "# Separate features (X) and target variable (y)\n",
    "X = master_data.drop('label', axis=1)\n",
    "y = master_data['label']"
   ]
  },
  {
   "cell_type": "code",
   "execution_count": 8,
   "metadata": {},
   "outputs": [],
   "source": [
    "# Feature scaling\n",
    "scaler = StandardScaler()\n",
    "X_scaled = scaler.fit_transform(X)"
   ]
  },
  {
   "cell_type": "code",
   "execution_count": 9,
   "metadata": {},
   "outputs": [],
   "source": [
    "# Split the data into training and testing sets\n",
    "X_train, X_test, y_train, y_test = train_test_split(X_scaled, y, test_size=0.2, random_state=42)"
   ]
  },
  {
   "cell_type": "code",
   "execution_count": 10,
   "metadata": {},
   "outputs": [
    {
     "name": "stdout",
     "output_type": "stream",
     "text": [
      "Training set shape: (415927, 3)\n",
      "Testing set shape: (103982, 3)\n",
      "Training target shape: (415927,)\n",
      "Testing target shape: (103982,)\n"
     ]
    }
   ],
   "source": [
    "# Check the shapes of the resulting datasets\n",
    "print(\"Training set shape:\", X_train.shape)\n",
    "print(\"Testing set shape:\", X_test.shape)\n",
    "print(\"Training target shape:\", y_train.shape)\n",
    "print(\"Testing target shape:\", y_test.shape)"
   ]
  },
  {
   "cell_type": "markdown",
   "metadata": {},
   "source": [
    "## Training the SVM Model"
   ]
  },
  {
   "cell_type": "markdown",
   "metadata": {},
   "source": [
    "Training with svm_classifier = SVC()"
   ]
  },
  {
   "cell_type": "code",
   "execution_count": 11,
   "metadata": {},
   "outputs": [
    {
     "name": "stdout",
     "output_type": "stream",
     "text": [
      "Accuracy: 0.9947587082379643\n",
      "Confusion Matrix:\n",
      " [[103437      0]\n",
      " [   545      0]]\n",
      "Classification Report:\n",
      "               precision    recall  f1-score   support\n",
      "\n",
      "           0       0.99      1.00      1.00    103437\n",
      "           1       0.00      0.00      0.00       545\n",
      "\n",
      "    accuracy                           0.99    103982\n",
      "   macro avg       0.50      0.50      0.50    103982\n",
      "weighted avg       0.99      0.99      0.99    103982\n",
      "\n"
     ]
    },
    {
     "name": "stderr",
     "output_type": "stream",
     "text": [
      "C:\\Users\\julia\\AppData\\Local\\Programs\\Python\\Python311\\Lib\\site-packages\\sklearn\\metrics\\_classification.py:1517: UndefinedMetricWarning: Precision is ill-defined and being set to 0.0 in labels with no predicted samples. Use `zero_division` parameter to control this behavior.\n",
      "  _warn_prf(average, modifier, f\"{metric.capitalize()} is\", len(result))\n",
      "C:\\Users\\julia\\AppData\\Local\\Programs\\Python\\Python311\\Lib\\site-packages\\sklearn\\metrics\\_classification.py:1517: UndefinedMetricWarning: Precision is ill-defined and being set to 0.0 in labels with no predicted samples. Use `zero_division` parameter to control this behavior.\n",
      "  _warn_prf(average, modifier, f\"{metric.capitalize()} is\", len(result))\n",
      "C:\\Users\\julia\\AppData\\Local\\Programs\\Python\\Python311\\Lib\\site-packages\\sklearn\\metrics\\_classification.py:1517: UndefinedMetricWarning: Precision is ill-defined and being set to 0.0 in labels with no predicted samples. Use `zero_division` parameter to control this behavior.\n",
      "  _warn_prf(average, modifier, f\"{metric.capitalize()} is\", len(result))\n"
     ]
    }
   ],
   "source": [
    "from sklearn.svm import SVC\n",
    "from sklearn.metrics import classification_report, accuracy_score, confusion_matrix\n",
    "\n",
    "# Initialize the SVM classifier\n",
    "svm_classifier = SVC()\n",
    "\n",
    "# Train the SVM classifier on the training data\n",
    "svm_classifier.fit(X_train, y_train)\n",
    "\n",
    "# Make predictions on the test data\n",
    "y_pred = svm_classifier.predict(X_test)\n",
    "\n",
    "# Evaluate the model\n",
    "accuracy = accuracy_score(y_test, y_pred)\n",
    "conf_matrix = confusion_matrix(y_test, y_pred)\n",
    "class_report = classification_report(y_test, y_pred)\n",
    "\n",
    "print(\"Accuracy:\", accuracy)\n",
    "print(\"Confusion Matrix:\\n\", conf_matrix)\n",
    "print(\"Classification Report:\\n\", class_report)"
   ]
  },
  {
   "cell_type": "markdown",
   "metadata": {},
   "source": [
    "The classification report indicates that your SVM model is performing very poorly on the minority class (label 1). The model has high accuracy, but this is misleading because it is almost entirely predicting the majority class (label 0). This is a common issue when dealing with imbalanced datasets."
   ]
  },
  {
   "cell_type": "code",
   "execution_count": 12,
   "metadata": {},
   "outputs": [
    {
     "name": "stdout",
     "output_type": "stream",
     "text": [
      "Class Distribution:\n",
      " label\n",
      "0    517355\n",
      "1      2554\n",
      "Name: count, dtype: int64\n"
     ]
    }
   ],
   "source": [
    "class_distribution = master_data['label'].value_counts()\n",
    "print(\"Class Distribution:\\n\", class_distribution)"
   ]
  },
  {
   "cell_type": "markdown",
   "metadata": {},
   "source": [
    "Trying with LinearSVC"
   ]
  },
  {
   "cell_type": "code",
   "execution_count": 12,
   "metadata": {},
   "outputs": [
    {
     "name": "stdout",
     "output_type": "stream",
     "text": [
      "Accuracy: 0.5171087303571772\n",
      "Confusion Matrix:\n",
      " [[53402 50035]\n",
      " [  177   368]]\n",
      "Classification Report:\n",
      "               precision    recall  f1-score   support\n",
      "\n",
      "           0       1.00      0.52      0.68    103437\n",
      "           1       0.01      0.68      0.01       545\n",
      "\n",
      "    accuracy                           0.52    103982\n",
      "   macro avg       0.50      0.60      0.35    103982\n",
      "weighted avg       0.99      0.52      0.68    103982\n",
      "\n"
     ]
    }
   ],
   "source": [
    "from sklearn.svm import LinearSVC\n",
    "from sklearn.metrics import classification_report, accuracy_score, confusion_matrix\n",
    "\n",
    "# Initialize the Linear SVM classifier with class weights\n",
    "svm_classifier = LinearSVC(class_weight='balanced')\n",
    "\n",
    "# Train the Linear SVM classifier on the training data\n",
    "svm_classifier.fit(X_train, y_train)\n",
    "\n",
    "# Make predictions on the test data\n",
    "y_pred = svm_classifier.predict(X_test)\n",
    "\n",
    "# Evaluate the model\n",
    "accuracy = accuracy_score(y_test, y_pred)\n",
    "conf_matrix = confusion_matrix(y_test, y_pred)\n",
    "class_report = classification_report(y_test, y_pred)\n",
    "\n",
    "print(\"Accuracy:\", accuracy)\n",
    "print(\"Confusion Matrix:\\n\", conf_matrix)\n",
    "print(\"Classification Report:\\n\", class_report)\n"
   ]
  },
  {
   "cell_type": "code",
   "execution_count": 16,
   "metadata": {},
   "outputs": [
    {
     "name": "stdout",
     "output_type": "stream",
     "text": [
      "Class Distribution:\n",
      " label\n",
      "0    517355\n",
      "1      2554\n",
      "Name: count, dtype: int64\n"
     ]
    }
   ],
   "source": []
  },
  {
   "cell_type": "code",
   "execution_count": 14,
   "metadata": {},
   "outputs": [
    {
     "name": "stdout",
     "output_type": "stream",
     "text": [
      "Collecting imbalanced-learn\n",
      "  Downloading imbalanced_learn-0.12.3-py3-none-any.whl.metadata (8.3 kB)\n",
      "Requirement already satisfied: numpy>=1.17.3 in c:\\users\\julia\\appdata\\local\\programs\\python\\python311\\lib\\site-packages (from imbalanced-learn) (1.26.0)\n",
      "Requirement already satisfied: scipy>=1.5.0 in c:\\users\\julia\\appdata\\local\\programs\\python\\python311\\lib\\site-packages (from imbalanced-learn) (1.13.1)\n",
      "Requirement already satisfied: scikit-learn>=1.0.2 in c:\\users\\julia\\appdata\\local\\programs\\python\\python311\\lib\\site-packages (from imbalanced-learn) (1.5.0)\n",
      "Requirement already satisfied: joblib>=1.1.1 in c:\\users\\julia\\appdata\\local\\programs\\python\\python311\\lib\\site-packages (from imbalanced-learn) (1.4.2)\n",
      "Requirement already satisfied: threadpoolctl>=2.0.0 in c:\\users\\julia\\appdata\\local\\programs\\python\\python311\\lib\\site-packages (from imbalanced-learn) (3.5.0)\n",
      "Downloading imbalanced_learn-0.12.3-py3-none-any.whl (258 kB)\n",
      "   ---------------------------------------- 0.0/258.3 kB ? eta -:--:--\n",
      "   ----------- ---------------------------- 71.7/258.3 kB 3.8 MB/s eta 0:00:01\n",
      "   ------------------------------------ --- 235.5/258.3 kB 3.6 MB/s eta 0:00:01\n",
      "   ---------------------------------------- 258.3/258.3 kB 3.2 MB/s eta 0:00:00\n",
      "Installing collected packages: imbalanced-learn\n",
      "Successfully installed imbalanced-learn-0.12.3\n",
      "Note: you may need to restart the kernel to use updated packages.\n"
     ]
    }
   ],
   "source": [
    "pip install imbalanced-learn\n"
   ]
  },
  {
   "cell_type": "code",
   "execution_count": 15,
   "metadata": {},
   "outputs": [
    {
     "name": "stdout",
     "output_type": "stream",
     "text": [
      "Accuracy: 0.5134638687465138\n",
      "Confusion Matrix:\n",
      " [[53008 50429]\n",
      " [  162   383]]\n",
      "Classification Report:\n",
      "               precision    recall  f1-score   support\n",
      "\n",
      "           0       1.00      0.51      0.68    103437\n",
      "           1       0.01      0.70      0.01       545\n",
      "\n",
      "    accuracy                           0.51    103982\n",
      "   macro avg       0.50      0.61      0.35    103982\n",
      "weighted avg       0.99      0.51      0.67    103982\n",
      "\n"
     ]
    }
   ],
   "source": [
    "from imblearn.over_sampling import SMOTE\n",
    "from sklearn.svm import LinearSVC\n",
    "from sklearn.metrics import classification_report, accuracy_score, confusion_matrix\n",
    "\n",
    "# Apply SMOTE to the training data\n",
    "smote = SMOTE(random_state=42)\n",
    "X_train_resampled, y_train_resampled = smote.fit_resample(X_train, y_train)\n",
    "\n",
    "# Initialize the Linear SVM classifier with class weights\n",
    "svm_classifier = LinearSVC(class_weight='balanced')\n",
    "\n",
    "# Train the Linear SVM classifier on the resampled training data\n",
    "svm_classifier.fit(X_train_resampled, y_train_resampled)\n",
    "\n",
    "# Make predictions on the test data\n",
    "y_pred = svm_classifier.predict(X_test)\n",
    "\n",
    "# Evaluate the model\n",
    "accuracy = accuracy_score(y_test, y_pred)\n",
    "conf_matrix = confusion_matrix(y_test, y_pred)\n",
    "class_report = classification_report(y_test, y_pred)\n",
    "\n",
    "print(\"Accuracy:\", accuracy)\n",
    "print(\"Confusion Matrix:\\n\", conf_matrix)\n",
    "print(\"Classification Report:\\n\", class_report)\n"
   ]
  },
  {
   "cell_type": "markdown",
   "metadata": {},
   "source": [
    "\n",
    "The results show that while using SMOTE with Linear SVM slightly improved the recall for the minority class, the overall accuracy is still low, and the precision for the minority class remains very poor. This suggests that the model is still struggling with the class imbalance despite the oversampling."
   ]
  },
  {
   "cell_type": "markdown",
   "metadata": {},
   "source": [
    "Next steps: Try Naive Bayes.\n",
    "Naive Bayes: A good fit for text data and may handle imbalance better."
   ]
  },
  {
   "cell_type": "code",
   "execution_count": null,
   "metadata": {},
   "outputs": [],
   "source": []
  }
 ],
 "metadata": {
  "kernelspec": {
   "display_name": "Python 3 (ipykernel)",
   "language": "python",
   "name": "python3"
  },
  "language_info": {
   "codemirror_mode": {
    "name": "ipython",
    "version": 3
   },
   "file_extension": ".py",
   "mimetype": "text/x-python",
   "name": "python",
   "nbconvert_exporter": "python",
   "pygments_lexer": "ipython3",
   "version": "3.11.4"
  }
 },
 "nbformat": 4,
 "nbformat_minor": 4
}
