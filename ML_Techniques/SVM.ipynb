{
 "cells": [
  {
   "cell_type": "markdown",
   "metadata": {},
   "source": [
    "# ML Technique - SVM\n",
    "\n",
    "Sources: https://github.com/cmadusankahw/email-spam-detection-with-SVM"
   ]
  },
{
   "cell_type": "code",
   "execution_count": 12,
   "id": "23259dd0-ea9e-4078-99cc-755f8503700d",
   "metadata": {},
   "outputs": [],
   "source": [
    "#Importing the necessary libraries\n",
    "import numpy as np\n",
    "import pandas as pd\n",
    "from sklearn import datasets\n",
    "from sklearn.model_selection import train_test_split\n",
    "from sklearn.linear_model import LogisticRegression\n",
    "from sklearn.metrics import confusion_matrix, balanced_accuracy_score, roc_auc_score\n",
    "\n",
    "#Calculate evaluation metrics\n",
    "# conf_matrix = confusion_matrix()\n",
    "# balanced_acc = balanced_accuracy_score()\n",
    "# auc = roc_auc_score()\n",
    "\n",
    "#Print evaluation metrics\n",
    "# print(\"Confusion Matrix:\")\n",
    "# print(conf_matrix)\n",
    "# print(\"\\nBalanced Accuracy:\", balanced_acc)\n",
    "# print(\"AUC:\", auc)"
 ]
}
],
 "metadata": {
  "kernelspec": {
   "display_name": "Python 3 (ipykernel)",
   "language": "python",
   "name": "python3"
  },
  "language_info": {
   "codemirror_mode": {
    "name": "ipython",
    "version": 3
   },
   "file_extension": ".py",
   "mimetype": "text/x-python",
   "name": "python",
   "nbconvert_exporter": "python",
   "pygments_lexer": "ipython3",
   "version": "3.12.3"
  }
 },
 "nbformat": 4,
 "nbformat_minor": 4
}
