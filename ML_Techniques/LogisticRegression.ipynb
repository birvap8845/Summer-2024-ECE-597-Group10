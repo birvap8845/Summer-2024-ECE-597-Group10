{
 "cells": [
  {
   "cell_type": "markdown",
   "id": "39b81239-98f1-40fd-8b56-68af31e72fbd",
   "metadata": {},
   "source": [
    "# Logistic Regression\n",
    "\n",
    "Logistic regression is a statistical method used for binary classification. The goal is to predict the probability that a given input belongs to one of two classes (e.g. 0 or 1).\n",
    "\n",
    "## How does Logistic Regression work?\n",
    "\n",
    "1. Linear combination of inputs is calculated\n",
    "2. The linear combination of inputs is passed through a sigmoid function to map the result to a value between 0 and 1\n",
    "3. To make a classfication, a threshold is set, if larger than threshold it is 1, if less it is 0\n",
    "4. Training the model\n",
    "5. Optimization\n",
    "\n",
    "## Advantages vs Disadvantages\n",
    "\n",
    "**Advantages**\n",
    "1. Simple\n",
    "2. Efficient (less computer resources used)\n",
    "3. Easy to interpret\n",
    "\n",
    "**Disadvantages**\n",
    "\n",
    "1. Poor performance when large sets of features\n",
    "2. Outliers can potentially impact the decision threshold\n",
    "\n",
    "\n",
    "References:\n",
    "\n",
    "https://www.ahajournals.org/doi/full/10.1161/CIRCULATIONAHA.106.682658\n",
    "\n",
    "https://ceur-ws.org/Vol-2124/paper_12.pdf\n",
    "\n",
    "https://link.springer.com/book/10.1007/978-1-4419-1742-3\n",
    "\n"
   ]
  },
  {
   "cell_type": "code",
   "execution_count": 12,
   "id": "23259dd0-ea9e-4078-99cc-755f8503700d",
   "metadata": {},
   "outputs": [],
   "source": [
    "#Importing the necessary libraries\n",
    "import numpy as np\n",
    "import pandas as pd\n",
    "from sklearn import datasets\n",
    "from sklearn.model_selection import train_test_split\n",
    "from sklearn.linear_model import LogisticRegression\n",
    "from sklearn.metrics import confusion_matrix, balanced_accuracy_score, roc_auc_score\n",
    "\n",
    "#Calculate evaluation metrics\n",
    "# conf_matrix = confusion_matrix()\n",
    "# balanced_acc = balanced_accuracy_score()\n",
    "# auc = roc_auc_score()\n",
    "\n",
    "#Print evaluation metrics\n",
    "# print(\"Confusion Matrix:\")\n",
    "# print(conf_matrix)\n",
    "# print(\"\\nBalanced Accuracy:\", balanced_acc)\n",
    "# print(\"AUC:\", auc)"
   ]
  }
 ],
 "metadata": {
  "kernelspec": {
   "display_name": "Python 3 (ipykernel)",
   "language": "python",
   "name": "python3"
  },
  "language_info": {
   "codemirror_mode": {
    "name": "ipython",
    "version": 3
   },
   "file_extension": ".py",
   "mimetype": "text/x-python",
   "name": "python",
   "nbconvert_exporter": "python",
   "pygments_lexer": "ipython3",
   "version": "3.12.3"
  }
 },
 "nbformat": 4,
 "nbformat_minor": 5
}
