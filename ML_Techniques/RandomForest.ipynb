{
 "cells": [
  {
   "cell_type": "markdown",
   "metadata": {},
   "source": [
    "# ML Technique - SVM\n",
    "\n",
    "Sources: https://github.com/cmadusankahw/email-spam-detection-with-SVM\n",
    "\n",
    "https://www.kaggle.com/code/elnahas/phishing-email-detection-using-svm-rfc"
   ]
  },
{
 "cells": [
  {
   "cell_type": "markdown",
   "id": "39b81239-98f1-40fd-8b56-68af31e72fbd",
   "metadata": {},
   "source": [
    "# Random Forest\n",
    "\n",
    "Random Forest is a popular machine learning algorithm that can be effectively used for phishing detection. It is an ensemble learning method, a m that constructs multiple decision trees during training and outputs the mode of the classes (classification) or mean prediction (regression) of the individual trees.\n",
    "\n",
    "## How does Random Forest work?\n",
    "In progress: #Referebce Papers:
#https://www.researchgate.net/publication/357203782_Classification_of_Spam_Messages_using_Random_Forest_Algorithm \n",
    "**Advantages**\n",
    "In progress.\n"\n",
]
]
}
}
