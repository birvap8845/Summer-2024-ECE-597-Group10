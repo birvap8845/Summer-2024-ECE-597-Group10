{
 "cells": [
  {
   "cell_type": "markdown",
   "metadata": {},
   "source": [
    "# Random Forest\n",
    "\n",
    "Sources: https://www.researchgate.net/publication/357203782_Classification_of_Spam_Messages_using_Random_Forest_Algorithmn",
    "\n",
    "https://www.kaggle.com/code/elnahas/phishing-email-detection-using-svm-rfc"
    "\n",
    "Random Forest is a popular machine learning algorithm that can be effectively used for phishing detection. It is an ensemble learning method, a m that constructs multiple decision trees during training and outputs the mode of the classes (classification) or mean prediction (regression) of the individual trees.\n",
    "\n",
    "## How does Random Forest work?\n",
    "In progress\n",
    "**Advantages**\n",
    "In progress.\n"\n",
   ]
  },
